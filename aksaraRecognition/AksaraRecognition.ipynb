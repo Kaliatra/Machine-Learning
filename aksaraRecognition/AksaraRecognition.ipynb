{
  "cells": [
    {
      "cell_type": "markdown",
      "source": [
        "# Image Recognition Balinese Script"
      ],
      "metadata": {
        "id": "zBJ5IqBU6wsN"
      }
    },
    {
      "cell_type": "markdown",
      "source": [
        "A system that can detect Balinese script images. which outputs 3 confident predictions"
      ],
      "metadata": {
        "id": "LFhHwRLq7BzQ"
      }
    },
    {
      "cell_type": "markdown",
      "source": [
        "# Access Google Drive"
      ],
      "metadata": {
        "id": "rVGOhflaCHwx"
      }
    },
    {
      "cell_type": "code",
      "execution_count": 1,
      "metadata": {
        "colab": {
          "base_uri": "https://localhost:8080/"
        },
        "id": "LdPnyBuJI6yc",
        "outputId": "f197d2b9-78de-4fe8-fa6d-4cf28678f63c"
      },
      "outputs": [
        {
          "output_type": "stream",
          "name": "stdout",
          "text": [
            "Drive already mounted at /content/drive; to attempt to forcibly remount, call drive.mount(\"/content/drive\", force_remount=True).\n"
          ]
        }
      ],
      "source": [
        "from google.colab import drive\n",
        "drive.mount('/content/drive')"
      ]
    },
    {
      "cell_type": "markdown",
      "source": [
        "# Import Libraries"
      ],
      "metadata": {
        "id": "zYAUu3Ws6Atx"
      }
    },
    {
      "cell_type": "code",
      "source": [
        "import tensorflow as tf\n",
        "import numpy as np\n",
        "import os\n",
        "import gzip\n",
        "from io import BytesIO\n",
        "import ipywidgets as widgets\n",
        "import matplotlib.pyplot as plt\n",
        "import pandas as pd"
      ],
      "metadata": {
        "id": "hxifEvNZ5-yo"
      },
      "execution_count": 2,
      "outputs": []
    },
    {
      "cell_type": "markdown",
      "source": [
        "# Load Data"
      ],
      "metadata": {
        "id": "EL6xMoRD6TJ5"
      }
    },
    {
      "cell_type": "code",
      "execution_count": 3,
      "metadata": {
        "id": "aVxzyUm4LCnj",
        "colab": {
          "base_uri": "https://localhost:8080/"
        },
        "outputId": "aedc76fd-7058-4f09-b466-338f2430d5d1"
      },
      "outputs": [
        {
          "output_type": "stream",
          "name": "stdout",
          "text": [
            "Train Images Shape: (1396, 280, 280, 1)\n",
            "Train Labels Shape: (1396,)\n",
            "Test Images Shape: (349, 280, 280, 1)\n",
            "Test Labels Shape: (349,)\n"
          ]
        }
      ],
      "source": [
        "def load_aksara_images(file_path):\n",
        "    with gzip.open(file_path, 'rb') as f:\n",
        "        magic_number = int.from_bytes(f.read(4), 'big')\n",
        "        num_images = int.from_bytes(f.read(4), 'big')\n",
        "        rows = int.from_bytes(f.read(4), 'big')\n",
        "        cols = int.from_bytes(f.read(4), 'big')\n",
        "        buffer = f.read()\n",
        "        data = np.frombuffer(buffer, dtype=np.uint8)\n",
        "        data = data.reshape(num_images, rows, cols, 1)\n",
        "        return data / 255.0\n",
        "\n",
        "def load_aksara_labels(file_path):\n",
        "    with gzip.open(file_path, 'rb') as f:\n",
        "        magic_number = int.from_bytes(f.read(4), 'big')\n",
        "        num_labels = int.from_bytes(f.read(4), 'big')\n",
        "        buffer = f.read()\n",
        "        labels = np.frombuffer(buffer, dtype=np.uint8)\n",
        "        return labels\n",
        "\n",
        "\n",
        "train_dir = \"/content/drive/My Drive/datasetAksara18/train\"\n",
        "test_dir = \"/content/drive/My Drive/datasetAksara18/test\"\n",
        "\n",
        "train_images = load_aksara_images(f\"{train_dir}/train-images-idx3-ubyte.gz\")\n",
        "train_labels = load_aksara_labels(f\"{train_dir}/train-labels-idx1-ubyte.gz\")\n",
        "\n",
        "test_images = load_aksara_images(f\"{test_dir}/t10k-images-idx3-ubyte.gz\")\n",
        "test_labels = load_aksara_labels(f\"{test_dir}/t10k-labels-idx1-ubyte.gz\")\n",
        "\n",
        "print(\"Train Images Shape:\", train_images.shape)\n",
        "print(\"Train Labels Shape:\", train_labels.shape)\n",
        "print(\"Test Images Shape:\", test_images.shape)\n",
        "print(\"Test Labels Shape:\", test_labels.shape)"
      ]
    },
    {
      "cell_type": "markdown",
      "source": [
        "# Make a Model"
      ],
      "metadata": {
        "id": "YtjS4lmEC2YO"
      }
    },
    {
      "cell_type": "code",
      "execution_count": 4,
      "metadata": {
        "id": "mf2YkMbsKTMs"
      },
      "outputs": [],
      "source": [
        "\n",
        "def create_model():\n",
        "    model = tf.keras.models.Sequential([\n",
        "        tf.keras.layers.Conv2D(32, (3, 3), activation='relu', input_shape=(280, 280, 1)),\n",
        "        tf.keras.layers.MaxPooling2D(2, 2),\n",
        "        tf.keras.layers.Conv2D(64, (3,3), activation='relu'),\n",
        "        tf.keras.layers.MaxPooling2D(2,2),\n",
        "        tf.keras.layers.Flatten(),\n",
        "        tf.keras.layers.Dense(128, activation='relu'),\n",
        "        tf.keras.layers.Dense(18, activation='softmax')\n",
        "        ])\n",
        "    model.compile(loss = 'sparse_categorical_crossentropy', optimizer='adam', metrics=['accuracy'])\n",
        "    model.summary()\n",
        "    return model\n",
        "\n",
        "\n"
      ]
    },
    {
      "cell_type": "markdown",
      "source": [
        "# Train Model"
      ],
      "metadata": {
        "id": "a7n_cT-mN_j3"
      }
    },
    {
      "cell_type": "code",
      "execution_count": 5,
      "metadata": {
        "colab": {
          "base_uri": "https://localhost:8080/",
          "height": 1000
        },
        "id": "9FBrpMV3KjJi",
        "outputId": "0fa9ec7d-f931-49c0-f1f6-dfd3fc4393b7"
      },
      "outputs": [
        {
          "output_type": "stream",
          "name": "stderr",
          "text": [
            "/usr/local/lib/python3.10/dist-packages/keras/src/layers/convolutional/base_conv.py:107: UserWarning: Do not pass an `input_shape`/`input_dim` argument to a layer. When using Sequential models, prefer using an `Input(shape)` object as the first layer in the model instead.\n",
            "  super().__init__(activity_regularizer=activity_regularizer, **kwargs)\n"
          ]
        },
        {
          "output_type": "display_data",
          "data": {
            "text/plain": [
              "\u001b[1mModel: \"sequential\"\u001b[0m\n"
            ],
            "text/html": [
              "<pre style=\"white-space:pre;overflow-x:auto;line-height:normal;font-family:Menlo,'DejaVu Sans Mono',consolas,'Courier New',monospace\"><span style=\"font-weight: bold\">Model: \"sequential\"</span>\n",
              "</pre>\n"
            ]
          },
          "metadata": {}
        },
        {
          "output_type": "display_data",
          "data": {
            "text/plain": [
              "┏━━━━━━━━━━━━━━━━━━━━━━━━━━━━━━━━━━━━━━┳━━━━━━━━━━━━━━━━━━━━━━━━━━━━━┳━━━━━━━━━━━━━━━━━┓\n",
              "┃\u001b[1m \u001b[0m\u001b[1mLayer (type)                        \u001b[0m\u001b[1m \u001b[0m┃\u001b[1m \u001b[0m\u001b[1mOutput Shape               \u001b[0m\u001b[1m \u001b[0m┃\u001b[1m \u001b[0m\u001b[1m        Param #\u001b[0m\u001b[1m \u001b[0m┃\n",
              "┡━━━━━━━━━━━━━━━━━━━━━━━━━━━━━━━━━━━━━━╇━━━━━━━━━━━━━━━━━━━━━━━━━━━━━╇━━━━━━━━━━━━━━━━━┩\n",
              "│ conv2d (\u001b[38;5;33mConv2D\u001b[0m)                      │ (\u001b[38;5;45mNone\u001b[0m, \u001b[38;5;34m278\u001b[0m, \u001b[38;5;34m278\u001b[0m, \u001b[38;5;34m32\u001b[0m)        │             \u001b[38;5;34m320\u001b[0m │\n",
              "├──────────────────────────────────────┼─────────────────────────────┼─────────────────┤\n",
              "│ max_pooling2d (\u001b[38;5;33mMaxPooling2D\u001b[0m)         │ (\u001b[38;5;45mNone\u001b[0m, \u001b[38;5;34m139\u001b[0m, \u001b[38;5;34m139\u001b[0m, \u001b[38;5;34m32\u001b[0m)        │               \u001b[38;5;34m0\u001b[0m │\n",
              "├──────────────────────────────────────┼─────────────────────────────┼─────────────────┤\n",
              "│ conv2d_1 (\u001b[38;5;33mConv2D\u001b[0m)                    │ (\u001b[38;5;45mNone\u001b[0m, \u001b[38;5;34m137\u001b[0m, \u001b[38;5;34m137\u001b[0m, \u001b[38;5;34m64\u001b[0m)        │          \u001b[38;5;34m18,496\u001b[0m │\n",
              "├──────────────────────────────────────┼─────────────────────────────┼─────────────────┤\n",
              "│ max_pooling2d_1 (\u001b[38;5;33mMaxPooling2D\u001b[0m)       │ (\u001b[38;5;45mNone\u001b[0m, \u001b[38;5;34m68\u001b[0m, \u001b[38;5;34m68\u001b[0m, \u001b[38;5;34m64\u001b[0m)          │               \u001b[38;5;34m0\u001b[0m │\n",
              "├──────────────────────────────────────┼─────────────────────────────┼─────────────────┤\n",
              "│ flatten (\u001b[38;5;33mFlatten\u001b[0m)                    │ (\u001b[38;5;45mNone\u001b[0m, \u001b[38;5;34m295936\u001b[0m)              │               \u001b[38;5;34m0\u001b[0m │\n",
              "├──────────────────────────────────────┼─────────────────────────────┼─────────────────┤\n",
              "│ dense (\u001b[38;5;33mDense\u001b[0m)                        │ (\u001b[38;5;45mNone\u001b[0m, \u001b[38;5;34m128\u001b[0m)                 │      \u001b[38;5;34m37,879,936\u001b[0m │\n",
              "├──────────────────────────────────────┼─────────────────────────────┼─────────────────┤\n",
              "│ dense_1 (\u001b[38;5;33mDense\u001b[0m)                      │ (\u001b[38;5;45mNone\u001b[0m, \u001b[38;5;34m18\u001b[0m)                  │           \u001b[38;5;34m2,322\u001b[0m │\n",
              "└──────────────────────────────────────┴─────────────────────────────┴─────────────────┘\n"
            ],
            "text/html": [
              "<pre style=\"white-space:pre;overflow-x:auto;line-height:normal;font-family:Menlo,'DejaVu Sans Mono',consolas,'Courier New',monospace\">┏━━━━━━━━━━━━━━━━━━━━━━━━━━━━━━━━━━━━━━┳━━━━━━━━━━━━━━━━━━━━━━━━━━━━━┳━━━━━━━━━━━━━━━━━┓\n",
              "┃<span style=\"font-weight: bold\"> Layer (type)                         </span>┃<span style=\"font-weight: bold\"> Output Shape                </span>┃<span style=\"font-weight: bold\">         Param # </span>┃\n",
              "┡━━━━━━━━━━━━━━━━━━━━━━━━━━━━━━━━━━━━━━╇━━━━━━━━━━━━━━━━━━━━━━━━━━━━━╇━━━━━━━━━━━━━━━━━┩\n",
              "│ conv2d (<span style=\"color: #0087ff; text-decoration-color: #0087ff\">Conv2D</span>)                      │ (<span style=\"color: #00d7ff; text-decoration-color: #00d7ff\">None</span>, <span style=\"color: #00af00; text-decoration-color: #00af00\">278</span>, <span style=\"color: #00af00; text-decoration-color: #00af00\">278</span>, <span style=\"color: #00af00; text-decoration-color: #00af00\">32</span>)        │             <span style=\"color: #00af00; text-decoration-color: #00af00\">320</span> │\n",
              "├──────────────────────────────────────┼─────────────────────────────┼─────────────────┤\n",
              "│ max_pooling2d (<span style=\"color: #0087ff; text-decoration-color: #0087ff\">MaxPooling2D</span>)         │ (<span style=\"color: #00d7ff; text-decoration-color: #00d7ff\">None</span>, <span style=\"color: #00af00; text-decoration-color: #00af00\">139</span>, <span style=\"color: #00af00; text-decoration-color: #00af00\">139</span>, <span style=\"color: #00af00; text-decoration-color: #00af00\">32</span>)        │               <span style=\"color: #00af00; text-decoration-color: #00af00\">0</span> │\n",
              "├──────────────────────────────────────┼─────────────────────────────┼─────────────────┤\n",
              "│ conv2d_1 (<span style=\"color: #0087ff; text-decoration-color: #0087ff\">Conv2D</span>)                    │ (<span style=\"color: #00d7ff; text-decoration-color: #00d7ff\">None</span>, <span style=\"color: #00af00; text-decoration-color: #00af00\">137</span>, <span style=\"color: #00af00; text-decoration-color: #00af00\">137</span>, <span style=\"color: #00af00; text-decoration-color: #00af00\">64</span>)        │          <span style=\"color: #00af00; text-decoration-color: #00af00\">18,496</span> │\n",
              "├──────────────────────────────────────┼─────────────────────────────┼─────────────────┤\n",
              "│ max_pooling2d_1 (<span style=\"color: #0087ff; text-decoration-color: #0087ff\">MaxPooling2D</span>)       │ (<span style=\"color: #00d7ff; text-decoration-color: #00d7ff\">None</span>, <span style=\"color: #00af00; text-decoration-color: #00af00\">68</span>, <span style=\"color: #00af00; text-decoration-color: #00af00\">68</span>, <span style=\"color: #00af00; text-decoration-color: #00af00\">64</span>)          │               <span style=\"color: #00af00; text-decoration-color: #00af00\">0</span> │\n",
              "├──────────────────────────────────────┼─────────────────────────────┼─────────────────┤\n",
              "│ flatten (<span style=\"color: #0087ff; text-decoration-color: #0087ff\">Flatten</span>)                    │ (<span style=\"color: #00d7ff; text-decoration-color: #00d7ff\">None</span>, <span style=\"color: #00af00; text-decoration-color: #00af00\">295936</span>)              │               <span style=\"color: #00af00; text-decoration-color: #00af00\">0</span> │\n",
              "├──────────────────────────────────────┼─────────────────────────────┼─────────────────┤\n",
              "│ dense (<span style=\"color: #0087ff; text-decoration-color: #0087ff\">Dense</span>)                        │ (<span style=\"color: #00d7ff; text-decoration-color: #00d7ff\">None</span>, <span style=\"color: #00af00; text-decoration-color: #00af00\">128</span>)                 │      <span style=\"color: #00af00; text-decoration-color: #00af00\">37,879,936</span> │\n",
              "├──────────────────────────────────────┼─────────────────────────────┼─────────────────┤\n",
              "│ dense_1 (<span style=\"color: #0087ff; text-decoration-color: #0087ff\">Dense</span>)                      │ (<span style=\"color: #00d7ff; text-decoration-color: #00d7ff\">None</span>, <span style=\"color: #00af00; text-decoration-color: #00af00\">18</span>)                  │           <span style=\"color: #00af00; text-decoration-color: #00af00\">2,322</span> │\n",
              "└──────────────────────────────────────┴─────────────────────────────┴─────────────────┘\n",
              "</pre>\n"
            ]
          },
          "metadata": {}
        },
        {
          "output_type": "display_data",
          "data": {
            "text/plain": [
              "\u001b[1m Total params: \u001b[0m\u001b[38;5;34m37,901,074\u001b[0m (144.58 MB)\n"
            ],
            "text/html": [
              "<pre style=\"white-space:pre;overflow-x:auto;line-height:normal;font-family:Menlo,'DejaVu Sans Mono',consolas,'Courier New',monospace\"><span style=\"font-weight: bold\"> Total params: </span><span style=\"color: #00af00; text-decoration-color: #00af00\">37,901,074</span> (144.58 MB)\n",
              "</pre>\n"
            ]
          },
          "metadata": {}
        },
        {
          "output_type": "display_data",
          "data": {
            "text/plain": [
              "\u001b[1m Trainable params: \u001b[0m\u001b[38;5;34m37,901,074\u001b[0m (144.58 MB)\n"
            ],
            "text/html": [
              "<pre style=\"white-space:pre;overflow-x:auto;line-height:normal;font-family:Menlo,'DejaVu Sans Mono',consolas,'Courier New',monospace\"><span style=\"font-weight: bold\"> Trainable params: </span><span style=\"color: #00af00; text-decoration-color: #00af00\">37,901,074</span> (144.58 MB)\n",
              "</pre>\n"
            ]
          },
          "metadata": {}
        },
        {
          "output_type": "display_data",
          "data": {
            "text/plain": [
              "\u001b[1m Non-trainable params: \u001b[0m\u001b[38;5;34m0\u001b[0m (0.00 B)\n"
            ],
            "text/html": [
              "<pre style=\"white-space:pre;overflow-x:auto;line-height:normal;font-family:Menlo,'DejaVu Sans Mono',consolas,'Courier New',monospace\"><span style=\"font-weight: bold\"> Non-trainable params: </span><span style=\"color: #00af00; text-decoration-color: #00af00\">0</span> (0.00 B)\n",
              "</pre>\n"
            ]
          },
          "metadata": {}
        },
        {
          "output_type": "stream",
          "name": "stdout",
          "text": [
            "Epoch 1/20\n",
            "\u001b[1m44/44\u001b[0m \u001b[32m━━━━━━━━━━━━━━━━━━━━\u001b[0m\u001b[37m\u001b[0m \u001b[1m23s\u001b[0m 324ms/step - accuracy: 0.3090 - loss: 2.5282 - val_accuracy: 0.8052 - val_loss: 0.6926\n",
            "Epoch 2/20\n",
            "\u001b[1m44/44\u001b[0m \u001b[32m━━━━━━━━━━━━━━━━━━━━\u001b[0m\u001b[37m\u001b[0m \u001b[1m22s\u001b[0m 59ms/step - accuracy: 0.9106 - loss: 0.3095 - val_accuracy: 0.8711 - val_loss: 0.4475\n",
            "Epoch 3/20\n",
            "\u001b[1m44/44\u001b[0m \u001b[32m━━━━━━━━━━━━━━━━━━━━\u001b[0m\u001b[37m\u001b[0m \u001b[1m3s\u001b[0m 62ms/step - accuracy: 0.9962 - loss: 0.0365 - val_accuracy: 0.8596 - val_loss: 0.5421\n",
            "Epoch 4/20\n",
            "\u001b[1m44/44\u001b[0m \u001b[32m━━━━━━━━━━━━━━━━━━━━\u001b[0m\u001b[37m\u001b[0m \u001b[1m3s\u001b[0m 61ms/step - accuracy: 0.9963 - loss: 0.0118 - val_accuracy: 0.8653 - val_loss: 0.5745\n",
            "Epoch 5/20\n",
            "\u001b[1m44/44\u001b[0m \u001b[32m━━━━━━━━━━━━━━━━━━━━\u001b[0m\u001b[37m\u001b[0m \u001b[1m5s\u001b[0m 64ms/step - accuracy: 0.9920 - loss: 0.0214 - val_accuracy: 0.8682 - val_loss: 0.5254\n",
            "Epoch 6/20\n",
            "\u001b[1m44/44\u001b[0m \u001b[32m━━━━━━━━━━━━━━━━━━━━\u001b[0m\u001b[37m\u001b[0m \u001b[1m5s\u001b[0m 66ms/step - accuracy: 0.9930 - loss: 0.0152 - val_accuracy: 0.8539 - val_loss: 0.6008\n",
            "Epoch 7/20\n",
            "\u001b[1m44/44\u001b[0m \u001b[32m━━━━━━━━━━━━━━━━━━━━\u001b[0m\u001b[37m\u001b[0m \u001b[1m5s\u001b[0m 61ms/step - accuracy: 0.9899 - loss: 0.0244 - val_accuracy: 0.8682 - val_loss: 0.5300\n",
            "Epoch 8/20\n",
            "\u001b[1m44/44\u001b[0m \u001b[32m━━━━━━━━━━━━━━━━━━━━\u001b[0m\u001b[37m\u001b[0m \u001b[1m5s\u001b[0m 64ms/step - accuracy: 0.9995 - loss: 0.0026 - val_accuracy: 0.8911 - val_loss: 0.5585\n",
            "Epoch 9/20\n",
            "\u001b[1m44/44\u001b[0m \u001b[32m━━━━━━━━━━━━━━━━━━━━\u001b[0m\u001b[37m\u001b[0m \u001b[1m3s\u001b[0m 61ms/step - accuracy: 1.0000 - loss: 4.0863e-04 - val_accuracy: 0.8854 - val_loss: 0.5473\n",
            "Epoch 10/20\n",
            "\u001b[1m44/44\u001b[0m \u001b[32m━━━━━━━━━━━━━━━━━━━━\u001b[0m\u001b[37m\u001b[0m \u001b[1m3s\u001b[0m 61ms/step - accuracy: 1.0000 - loss: 1.2285e-04 - val_accuracy: 0.8883 - val_loss: 0.5514\n",
            "Epoch 11/20\n",
            "\u001b[1m44/44\u001b[0m \u001b[32m━━━━━━━━━━━━━━━━━━━━\u001b[0m\u001b[37m\u001b[0m \u001b[1m5s\u001b[0m 61ms/step - accuracy: 1.0000 - loss: 7.2603e-05 - val_accuracy: 0.8883 - val_loss: 0.5571\n",
            "Epoch 12/20\n",
            "\u001b[1m44/44\u001b[0m \u001b[32m━━━━━━━━━━━━━━━━━━━━\u001b[0m\u001b[37m\u001b[0m \u001b[1m3s\u001b[0m 59ms/step - accuracy: 1.0000 - loss: 5.9680e-05 - val_accuracy: 0.8883 - val_loss: 0.5624\n",
            "Epoch 13/20\n",
            "\u001b[1m44/44\u001b[0m \u001b[32m━━━━━━━━━━━━━━━━━━━━\u001b[0m\u001b[37m\u001b[0m \u001b[1m3s\u001b[0m 65ms/step - accuracy: 1.0000 - loss: 4.6220e-05 - val_accuracy: 0.8883 - val_loss: 0.5669\n",
            "Epoch 14/20\n",
            "\u001b[1m44/44\u001b[0m \u001b[32m━━━━━━━━━━━━━━━━━━━━\u001b[0m\u001b[37m\u001b[0m \u001b[1m5s\u001b[0m 60ms/step - accuracy: 1.0000 - loss: 4.1747e-05 - val_accuracy: 0.8883 - val_loss: 0.5711\n",
            "Epoch 15/20\n",
            "\u001b[1m44/44\u001b[0m \u001b[32m━━━━━━━━━━━━━━━━━━━━\u001b[0m\u001b[37m\u001b[0m \u001b[1m5s\u001b[0m 60ms/step - accuracy: 1.0000 - loss: 3.0186e-05 - val_accuracy: 0.8911 - val_loss: 0.5747\n",
            "Epoch 16/20\n",
            "\u001b[1m44/44\u001b[0m \u001b[32m━━━━━━━━━━━━━━━━━━━━\u001b[0m\u001b[37m\u001b[0m \u001b[1m3s\u001b[0m 65ms/step - accuracy: 1.0000 - loss: 3.1615e-05 - val_accuracy: 0.8911 - val_loss: 0.5787\n",
            "Epoch 17/20\n",
            "\u001b[1m44/44\u001b[0m \u001b[32m━━━━━━━━━━━━━━━━━━━━\u001b[0m\u001b[37m\u001b[0m \u001b[1m3s\u001b[0m 62ms/step - accuracy: 1.0000 - loss: 2.5907e-05 - val_accuracy: 0.8911 - val_loss: 0.5820\n",
            "Epoch 18/20\n",
            "\u001b[1m44/44\u001b[0m \u001b[32m━━━━━━━━━━━━━━━━━━━━\u001b[0m\u001b[37m\u001b[0m \u001b[1m5s\u001b[0m 60ms/step - accuracy: 1.0000 - loss: 2.2933e-05 - val_accuracy: 0.8911 - val_loss: 0.5849\n",
            "Epoch 19/20\n",
            "\u001b[1m44/44\u001b[0m \u001b[32m━━━━━━━━━━━━━━━━━━━━\u001b[0m\u001b[37m\u001b[0m \u001b[1m5s\u001b[0m 65ms/step - accuracy: 1.0000 - loss: 2.1582e-05 - val_accuracy: 0.8911 - val_loss: 0.5880\n",
            "Epoch 20/20\n",
            "\u001b[1m44/44\u001b[0m \u001b[32m━━━━━━━━━━━━━━━━━━━━\u001b[0m\u001b[37m\u001b[0m \u001b[1m5s\u001b[0m 60ms/step - accuracy: 1.0000 - loss: 1.8088e-05 - val_accuracy: 0.8911 - val_loss: 0.5910\n"
          ]
        }
      ],
      "source": [
        "def train_model(model, train_images, train_labels, test_images, test_labels):\n",
        "    history = model.fit(train_images, train_labels, epochs=20, validation_data=(test_images, test_labels))\n",
        "    return history\n",
        "\n",
        "\n",
        "model = create_model()\n",
        "history = train_model(model, train_images, train_labels, test_images, test_labels)"
      ]
    },
    {
      "cell_type": "markdown",
      "source": [
        "# Train Result"
      ],
      "metadata": {
        "id": "CcWYdbnpOHe2"
      }
    },
    {
      "cell_type": "code",
      "source": [
        "def plot_training_graphs(history):\n",
        "    fig, axes = plt.subplots(1, 2, figsize=(12, 5))\n",
        "    axes[0].plot(history.history['accuracy'], label='Train Accuracy')\n",
        "    axes[0].plot(history.history['val_accuracy'], label='Val Accuracy')\n",
        "    axes[0].set_title('Train and Validation Accuracy')\n",
        "    axes[0].set_xlabel('Epochs')\n",
        "    axes[0].set_ylabel('Accuracy')\n",
        "    axes[0].legend()\n",
        "    axes[1].plot(history.history['loss'], label='Train Loss')\n",
        "    axes[1].plot(history.history['val_loss'], label='Val Loss')\n",
        "    axes[1].set_title('Train and Validation Loss')\n",
        "    axes[1].set_xlabel('Epochs')\n",
        "    axes[1].set_ylabel('Accuracy')\n",
        "    axes[1].legend()\n",
        "    plt.show()\n",
        "\n",
        "plot_training_graphs(history)\n"
      ],
      "metadata": {
        "colab": {
          "base_uri": "https://localhost:8080/",
          "height": 487
        },
        "id": "JbYBfi1QJa1T",
        "outputId": "46f69315-36e1-444f-8253-a49e9e426b9a"
      },
      "execution_count": 6,
      "outputs": [
        {
          "output_type": "display_data",
          "data": {
            "text/plain": [
              "<Figure size 1200x500 with 2 Axes>"
            ],
            "image/png": "[encoded data removed]"
          },
          "metadata": {}
        }
      ]
    },
    {
      "cell_type": "markdown",
      "source": [
        "# Menguji Model"
      ],
      "metadata": {
        "id": "T1qr2tlFONUz"
      }
    },
    {
      "cell_type": "code",
      "execution_count": 7,
      "metadata": {
        "colab": {
          "base_uri": "https://localhost:8080/",
          "height": 309,
          "referenced_widgets": [
            "07abbe167d1f4ca886b9ef5c87cb61fb",
            "98923838346a4371858ad16076d5a3de",
            "345f1255f8fe42dc8aae0c137e76e229",
            "e5e689f32283494ea2d8c0001c0adfa5",
            "512df5f7b82c4f35a25cc4fb9f922978"
          ]
        },
        "id": "l9VMZPSxKkuR",
        "outputId": "a05c0b5a-4af6-43ff-e5d9-b76be17b938e"
      },
      "outputs": [
        {
          "output_type": "display_data",
          "data": {
            "text/plain": [
              "FileUpload(value={}, accept='image/*', description='Upload', multiple=True)"
            ],
            "application/vnd.jupyter.widget-view+json": {
              "version_major": 2,
              "version_minor": 0,
              "model_id": "07abbe167d1f4ca886b9ef5c87cb61fb"
            }
          },
          "metadata": {}
        },
        {
          "output_type": "display_data",
          "data": {
            "text/plain": [
              "Output()"
            ],
            "application/vnd.jupyter.widget-view+json": {
              "version_major": 2,
              "version_minor": 0,
              "model_id": "e5e689f32283494ea2d8c0001c0adfa5"
            }
          },
          "metadata": {}
        },
        {
          "output_type": "stream",
          "name": "stdout",
          "text": [
            "Top 3 Predictions:\n",
            "File Name : Ca.jpg\n",
            "1. CA: 100.00%\n",
            "2. BA: 0.00%\n",
            "3. MA: 0.00%\n",
            "Top 3 Predictions:\n",
            "File Name : Ka.png\n",
            "1. KA: 100.00%\n",
            "2. MA: 0.00%\n",
            "3. A: 0.00%\n",
            "Top 3 Predictions:\n",
            "File Name : ma.jpg\n",
            "1. MA: 100.00%\n",
            "2. NGA: 0.00%\n",
            "3. BA: 0.00%\n"
          ]
        }
      ],
      "source": [
        "uploader = widgets.FileUpload(accept=\"image/*\", multiple=True)\n",
        "display(uploader)\n",
        "out = widgets.Output()\n",
        "display(out)\n",
        "\n",
        "# Function to make predictions\n",
        "def file_predict(filename, file, out):\n",
        "    \"\"\"A function for creating the prediction and printing the output.\"\"\"\n",
        "    image = tf.keras.utils.load_img(file, target_size=(280, 280))\n",
        "    image = tf.keras.utils.img_to_array(image)\n",
        "    image = tf.image.rgb_to_grayscale(image)  # Convert to grayscale\n",
        "    image = image / 255.0  # Normalize pixel values\n",
        "    image = np.expand_dims(image, axis=0)\n",
        "\n",
        "    prediction = model.predict(image, verbose=0)[0]\n",
        "\n",
        "    # Sort and get the top 3 predictions\n",
        "    top_indices = np.argsort(prediction)[-3:][::-1]  # Get indices of top 3 classes\n",
        "    top_percentages = prediction[top_indices] * 100  # Convert probabilities to percentages\n",
        "\n",
        "    label_map = {\n",
        "        0: 'A', 1: 'BA', 2: 'CA', 3: 'DA', 4: 'GA', 5: 'JA', 6: 'KA', 7: 'LA', 8: 'MA', 9: 'NA',\n",
        "        10: 'NGA', 11: 'NYA', 12: 'PA', 13: 'RA', 14: 'SA', 15: 'TA', 16: 'WA', 17: 'YA'\n",
        "    }\n",
        "\n",
        "    print(\"Top 3 Predictions:\")\n",
        "    print(f\"File Name : {filename}\")\n",
        "    for i in range(3):\n",
        "        label = label_map[top_indices[i]]  # Dapatkan label dari angka\n",
        "        print(f\"{i+1}. {label}: {top_percentages[i] :.2f}%\")\n",
        "\n",
        "    return top_indices, top_percentages\n",
        "\n",
        "# Function to handle file uploads\n",
        "def on_upload_change(change):\n",
        "    \"\"\"A function to handle uploaded files and run predictions.\"\"\"\n",
        "    for filename, file_info in change.new.items():  # Access filename and file data\n",
        "        file_content = BytesIO(file_info['content'])  # Get file content as BytesIO\n",
        "        file_predict(filename, file_content, out)\n",
        "\n",
        "# Attach the observer\n",
        "uploader.observe(on_upload_change, names='value')"
      ]
    }
  ],
  "metadata": {
    "colab": {
      "provenance": [],
      "gpuType": "T4"
    },
    "kernelspec": {
      "display_name": "Python 3",
      "name": "python3"
    },
    "language_info": {
      "name": "python"
    },
    "widgets": {
      "application/vnd.jupyter.widget-state+json": {
        "07abbe167d1f4ca886b9ef5c87cb61fb": {
          "model_module": "@jupyter-widgets/controls",
          "model_name": "FileUploadModel",
          "model_module_version": "1.5.0",
          "state": {
            "_counter": 3,
            "_dom_classes": [],
            "_model_module": "@jupyter-widgets/controls",
            "_model_module_version": "1.5.0",
            "_model_name": "FileUploadModel",
            "_view_count": null,
            "_view_module": "@jupyter-widgets/controls",
            "_view_module_version": "1.5.0",
            "_view_name": "FileUploadView",
            "accept": "image/*",
            "button_style": "",
            "data": [
              null
            ],
            "description": "Upload",
            "description_tooltip": null,
            "disabled": false,
            "error": "",
            "icon": "upload",
            "layout": "IPY_MODEL_98923838346a4371858ad16076d5a3de",
            "metadata": [
              {
                "name": "ma.jpg",
                "type": "image/jpeg",
                "size": 10930,
                "lastModified": 1733911929107
              }
            ],
            "multiple": true,
            "style": "IPY_MODEL_345f1255f8fe42dc8aae0c137e76e229"
          }
        },
        "98923838346a4371858ad16076d5a3de": {
          "model_module": "@jupyter-widgets/base",
          "model_name": "LayoutModel",
          "model_module_version": "1.2.0",
          "state": {
            "_model_module": "@jupyter-widgets/base",
            "_model_module_version": "1.2.0",
            "_model_name": "LayoutModel",
            "_view_count": null,
            "_view_module": "@jupyter-widgets/base",
            "_view_module_version": "1.2.0",
            "_view_name": "LayoutView",
            "align_content": null,
            "align_items": null,
            "align_self": null,
            "border": null,
            "bottom": null,
            "display": null,
            "flex": null,
            "flex_flow": null,
            "grid_area": null,
            "grid_auto_columns": null,
            "grid_auto_flow": null,
            "grid_auto_rows": null,
            "grid_column": null,
            "grid_gap": null,
            "grid_row": null,
            "grid_template_areas": null,
            "grid_template_columns": null,
            "grid_template_rows": null,
            "height": null,
            "justify_content": null,
            "justify_items": null,
            "left": null,
            "margin": null,
            "max_height": null,
            "max_width": null,
            "min_height": null,
            "min_width": null,
            "object_fit": null,
            "object_position": null,
            "order": null,
            "overflow": null,
            "overflow_x": null,
            "overflow_y": null,
            "padding": null,
            "right": null,
            "top": null,
            "visibility": null,
            "width": null
          }
        },
        "345f1255f8fe42dc8aae0c137e76e229": {
          "model_module": "@jupyter-widgets/controls",
          "model_name": "ButtonStyleModel",
          "model_module_version": "1.5.0",
          "state": {
            "_model_module": "@jupyter-widgets/controls",
            "_model_module_version": "1.5.0",
            "_model_name": "ButtonStyleModel",
            "_view_count": null,
            "_view_module": "@jupyter-widgets/base",
            "_view_module_version": "1.2.0",
            "_view_name": "StyleView",
            "button_color": null,
            "font_weight": ""
          }
        },
        "e5e689f32283494ea2d8c0001c0adfa5": {
          "model_module": "@jupyter-widgets/output",
          "model_name": "OutputModel",
          "model_module_version": "1.0.0",
          "state": {
            "_dom_classes": [],
            "_model_module": "@jupyter-widgets/output",
            "_model_module_version": "1.0.0",
            "_model_name": "OutputModel",
            "_view_count": null,
            "_view_module": "@jupyter-widgets/output",
            "_view_module_version": "1.0.0",
            "_view_name": "OutputView",
            "layout": "IPY_MODEL_512df5f7b82c4f35a25cc4fb9f922978",
            "msg_id": "",
            "outputs": []
          }
        },
        "512df5f7b82c4f35a25cc4fb9f922978": {
          "model_module": "@jupyter-widgets/base",
          "model_name": "LayoutModel",
          "model_module_version": "1.2.0",
          "state": {
            "_model_module": "@jupyter-widgets/base",
            "_model_module_version": "1.2.0",
            "_model_name": "LayoutModel",
            "_view_count": null,
            "_view_module": "@jupyter-widgets/base",
            "_view_module_version": "1.2.0",
            "_view_name": "LayoutView",
            "align_content": null,
            "align_items": null,
            "align_self": null,
            "border": null,
            "bottom": null,
            "display": null,
            "flex": null,
            "flex_flow": null,
            "grid_area": null,
            "grid_auto_columns": null,
            "grid_auto_flow": null,
            "grid_auto_rows": null,
            "grid_column": null,
            "grid_gap": null,
            "grid_row": null,
            "grid_template_areas": null,
            "grid_template_columns": null,
            "grid_template_rows": null,
            "height": null,
            "justify_content": null,
            "justify_items": null,
            "left": null,
            "margin": null,
            "max_height": null,
            "max_width": null,
            "min_height": null,
            "min_width": null,
            "object_fit": null,
            "object_position": null,
            "order": null,
            "overflow": null,
            "overflow_x": null,
            "overflow_y": null,
            "padding": null,
            "right": null,
            "top": null,
            "visibility": null,
            "width": null
          }
        }
      }
    },
    "accelerator": "GPU"
  },
  "nbformat": 4,
  "nbformat_minor": 0
}